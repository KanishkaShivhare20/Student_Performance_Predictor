{
 "cells": [
  {
   "cell_type": "markdown",
   "id": "2a5088d7",
   "metadata": {},
   "source": [
    "# Student Performance Indicator – ML Project\n",
    "\n",
    "## Machine Learning Project Life Cycle\n",
    "1. Understanding the Problem Statement  \n",
    "2. Data Collection  \n",
    "3. Data Validation & Checks  \n",
    "4. Exploratory Data Analysis (EDA)  \n",
    "5. Data Preprocessing  \n",
    "6. Model Training  \n",
    "7. Model Evaluation & Best Model Selection\n",
    "\n",
    "\n",
    "### 1. Problem Statement\n",
    "\n",
    "This project aims to understand how a student's academic performance is influenced by:\n",
    "- Gender  \n",
    "- Ethnicity  \n",
    "- Parental Level of Education  \n",
    "- Lunch and Test Preparation Course  \n",
    "- Reading and Writing Scores\n",
    "\n",
    "🎯 The goal is to **predict a student's final grade category** (e.g., A, B, C, etc.)  \n",
    "based on these input features.\n",
    "\n",
    "### 2. Data Collection\n",
    "\n",
    "**Dataset Source**: [Kaggle – Student Performance Dataset](https://www.kaggle.com/datasets/spscientist/students-performance-in-exams?datasetId=74977)\n",
    "\n",
    "**Rows:** 1000 \n",
    "**Columns:** 8 (including scores and demographic details)\n"
   ]
  },
  {
   "cell_type": "markdown",
   "id": "8a1a8682",
   "metadata": {},
   "source": [
    "#### 2.1 Import data and Required Packages"
   ]
  },
  {
   "cell_type": "code",
   "execution_count": 78,
   "id": "c80032d4",
   "metadata": {},
   "outputs": [],
   "source": [
    "import numpy as np\n",
    "import pandas as pd\n",
    "import seaborn as sns\n",
    "import matplotlib.pyplot as plt\n",
    "\n",
    "%matplotlib inline\n",
    "import warnings\n",
    "warnings.filterwarnings('ignore')\n"
   ]
  },
  {
   "cell_type": "markdown",
   "id": "7c6cce61",
   "metadata": {},
   "source": [
    "**Import the CSV Data as Pandas DataFrame**"
   ]
  },
  {
   "cell_type": "code",
   "execution_count": 79,
   "id": "cd0adf67",
   "metadata": {},
   "outputs": [
    {
     "data": {
      "text/html": [
       "<div>\n",
       "<style scoped>\n",
       "    .dataframe tbody tr th:only-of-type {\n",
       "        vertical-align: middle;\n",
       "    }\n",
       "\n",
       "    .dataframe tbody tr th {\n",
       "        vertical-align: top;\n",
       "    }\n",
       "\n",
       "    .dataframe thead th {\n",
       "        text-align: right;\n",
       "    }\n",
       "</style>\n",
       "<table border=\"1\" class=\"dataframe\">\n",
       "  <thead>\n",
       "    <tr style=\"text-align: right;\">\n",
       "      <th></th>\n",
       "      <th>gender</th>\n",
       "      <th>race_ethnicity</th>\n",
       "      <th>parental_level_of_education</th>\n",
       "      <th>lunch</th>\n",
       "      <th>test_preparation_course</th>\n",
       "      <th>math_score</th>\n",
       "      <th>reading_score</th>\n",
       "      <th>writing_score</th>\n",
       "    </tr>\n",
       "  </thead>\n",
       "  <tbody>\n",
       "    <tr>\n",
       "      <th>0</th>\n",
       "      <td>female</td>\n",
       "      <td>group B</td>\n",
       "      <td>bachelor's degree</td>\n",
       "      <td>standard</td>\n",
       "      <td>none</td>\n",
       "      <td>72</td>\n",
       "      <td>72</td>\n",
       "      <td>74</td>\n",
       "    </tr>\n",
       "    <tr>\n",
       "      <th>1</th>\n",
       "      <td>female</td>\n",
       "      <td>group C</td>\n",
       "      <td>some college</td>\n",
       "      <td>standard</td>\n",
       "      <td>completed</td>\n",
       "      <td>69</td>\n",
       "      <td>90</td>\n",
       "      <td>88</td>\n",
       "    </tr>\n",
       "    <tr>\n",
       "      <th>2</th>\n",
       "      <td>female</td>\n",
       "      <td>group B</td>\n",
       "      <td>master's degree</td>\n",
       "      <td>standard</td>\n",
       "      <td>none</td>\n",
       "      <td>90</td>\n",
       "      <td>95</td>\n",
       "      <td>93</td>\n",
       "    </tr>\n",
       "    <tr>\n",
       "      <th>3</th>\n",
       "      <td>male</td>\n",
       "      <td>group A</td>\n",
       "      <td>associate's degree</td>\n",
       "      <td>free/reduced</td>\n",
       "      <td>none</td>\n",
       "      <td>47</td>\n",
       "      <td>57</td>\n",
       "      <td>44</td>\n",
       "    </tr>\n",
       "    <tr>\n",
       "      <th>4</th>\n",
       "      <td>male</td>\n",
       "      <td>group C</td>\n",
       "      <td>some college</td>\n",
       "      <td>standard</td>\n",
       "      <td>none</td>\n",
       "      <td>76</td>\n",
       "      <td>78</td>\n",
       "      <td>75</td>\n",
       "    </tr>\n",
       "  </tbody>\n",
       "</table>\n",
       "</div>"
      ],
      "text/plain": [
       "   gender race_ethnicity parental_level_of_education         lunch  \\\n",
       "0  female        group B           bachelor's degree      standard   \n",
       "1  female        group C                some college      standard   \n",
       "2  female        group B             master's degree      standard   \n",
       "3    male        group A          associate's degree  free/reduced   \n",
       "4    male        group C                some college      standard   \n",
       "\n",
       "  test_preparation_course  math_score  reading_score  writing_score  \n",
       "0                    none          72             72             74  \n",
       "1               completed          69             90             88  \n",
       "2                    none          90             95             93  \n",
       "3                    none          47             57             44  \n",
       "4                    none          76             78             75  "
      ]
     },
     "execution_count": 79,
     "metadata": {},
     "output_type": "execute_result"
    }
   ],
   "source": [
    "# Load the dataset\n",
    "df = pd.read_csv(\"student_data1.csv\")  \n",
    "\n",
    "# Show first 5 rows\n",
    "df.head()\n"
   ]
  },
  {
   "cell_type": "markdown",
   "id": "cbcf176b",
   "metadata": {},
   "source": [
    "**Shape of the dataset**"
   ]
  },
  {
   "cell_type": "code",
   "execution_count": 80,
   "id": "135abef5",
   "metadata": {},
   "outputs": [
    {
     "name": "stdout",
     "output_type": "stream",
     "text": [
      "Dataset contains 1000 rows and 8 columns\n"
     ]
    }
   ],
   "source": [
    "# Dataset shape (rows, columns)\n",
    "print(f\"Dataset contains {df.shape[0]} rows and {df.shape[1]} columns\")"
   ]
  },
  {
   "cell_type": "markdown",
   "id": "58ac3b93",
   "metadata": {},
   "source": [
    "#### 2.2 Dataset Information\n",
    "\n",
    "Below is a description of each column in the dataset:\n",
    "\n",
    "- **gender**: Sex of the student → (Male / Female)  \n",
    "- **race/ethnicity**: Ethnic group of the student → (Group A, B, C, D, E)  \n",
    "- **parental level of education**: parent's final education ->(bachelor's degree,some college,master's degree,associate's degree,high school) \n",
    "- **lunch**: having lunch before test (standard or free/reduced)\n",
    "- **test preparation course**: complete or not complete before test\n",
    "- **math score**\n",
    "- **reading score**\n",
    "- **writing score**"
   ]
  },
  {
   "cell_type": "markdown",
   "id": "5ba8584d",
   "metadata": {},
   "source": [
    "### 3. Data Checks to Perform\n",
    "\n",
    "Before starting EDA, we'll validate the dataset by performing the following checks:\n",
    "\n",
    "-  Check for missing values  \n",
    "-  Check for duplicates  \n",
    "-  Check data types  \n",
    "-  Check the number of unique values in each column  \n",
    "-  Check summary statistics of the dataset  \n",
    "-  Check all possible categories in categorical columns\n"
   ]
  },
  {
   "cell_type": "markdown",
   "id": "a9044489",
   "metadata": {},
   "source": [
    "#### 3.1 Check Missing values"
   ]
  },
  {
   "cell_type": "code",
   "execution_count": 81,
   "id": "ed51cbc5",
   "metadata": {},
   "outputs": [
    {
     "data": {
      "text/plain": [
       "gender                         0\n",
       "race_ethnicity                 0\n",
       "parental_level_of_education    0\n",
       "lunch                          0\n",
       "test_preparation_course        0\n",
       "math_score                     0\n",
       "reading_score                  0\n",
       "writing_score                  0\n",
       "dtype: int64"
      ]
     },
     "execution_count": 81,
     "metadata": {},
     "output_type": "execute_result"
    }
   ],
   "source": [
    "# Check for missing values in each column\n",
    "df.isnull().sum()"
   ]
  },
  {
   "cell_type": "markdown",
   "id": "a59b6280",
   "metadata": {},
   "source": [
    "**There are no missing values in the data set**"
   ]
  },
  {
   "cell_type": "markdown",
   "id": "18b308ba",
   "metadata": {},
   "source": [
    "#### 3.2 Check Duplicates"
   ]
  },
  {
   "cell_type": "code",
   "execution_count": 82,
   "id": "6961c986",
   "metadata": {},
   "outputs": [
    {
     "data": {
      "text/plain": [
       "np.int64(0)"
      ]
     },
     "execution_count": 82,
     "metadata": {},
     "output_type": "execute_result"
    }
   ],
   "source": [
    "# Check for duplicate rows\n",
    "df.duplicated().sum()"
   ]
  },
  {
   "cell_type": "markdown",
   "id": "11be9080",
   "metadata": {},
   "source": [
    "#### 3.3 Check data types"
   ]
  },
  {
   "cell_type": "code",
   "execution_count": 83,
   "id": "02ebcaca",
   "metadata": {},
   "outputs": [
    {
     "name": "stdout",
     "output_type": "stream",
     "text": [
      "<class 'pandas.core.frame.DataFrame'>\n",
      "RangeIndex: 1000 entries, 0 to 999\n",
      "Data columns (total 8 columns):\n",
      " #   Column                       Non-Null Count  Dtype \n",
      "---  ------                       --------------  ----- \n",
      " 0   gender                       1000 non-null   object\n",
      " 1   race_ethnicity               1000 non-null   object\n",
      " 2   parental_level_of_education  1000 non-null   object\n",
      " 3   lunch                        1000 non-null   object\n",
      " 4   test_preparation_course      1000 non-null   object\n",
      " 5   math_score                   1000 non-null   int64 \n",
      " 6   reading_score                1000 non-null   int64 \n",
      " 7   writing_score                1000 non-null   int64 \n",
      "dtypes: int64(3), object(5)\n",
      "memory usage: 62.6+ KB\n"
     ]
    }
   ],
   "source": [
    "# Check data types of each column\n",
    "df.info()"
   ]
  },
  {
   "cell_type": "markdown",
   "id": "7528c7f2",
   "metadata": {},
   "source": [
    "#### 3.4 Checking the number of unique values of each column"
   ]
  },
  {
   "cell_type": "code",
   "execution_count": 84,
   "id": "290d4107",
   "metadata": {},
   "outputs": [
    {
     "data": {
      "text/plain": [
       "gender                          2\n",
       "race_ethnicity                  5\n",
       "parental_level_of_education     6\n",
       "lunch                           2\n",
       "test_preparation_course         2\n",
       "math_score                     81\n",
       "reading_score                  72\n",
       "writing_score                  77\n",
       "dtype: int64"
      ]
     },
     "execution_count": 84,
     "metadata": {},
     "output_type": "execute_result"
    }
   ],
   "source": [
    "# Number of unique values in each column\n",
    "df.nunique()"
   ]
  },
  {
   "cell_type": "markdown",
   "id": "71b2c61f",
   "metadata": {},
   "source": [
    "#### 3.5 Check statistics of data set"
   ]
  },
  {
   "cell_type": "code",
   "execution_count": 85,
   "id": "ede1ad1e",
   "metadata": {},
   "outputs": [
    {
     "data": {
      "text/html": [
       "<div>\n",
       "<style scoped>\n",
       "    .dataframe tbody tr th:only-of-type {\n",
       "        vertical-align: middle;\n",
       "    }\n",
       "\n",
       "    .dataframe tbody tr th {\n",
       "        vertical-align: top;\n",
       "    }\n",
       "\n",
       "    .dataframe thead th {\n",
       "        text-align: right;\n",
       "    }\n",
       "</style>\n",
       "<table border=\"1\" class=\"dataframe\">\n",
       "  <thead>\n",
       "    <tr style=\"text-align: right;\">\n",
       "      <th></th>\n",
       "      <th>math_score</th>\n",
       "      <th>reading_score</th>\n",
       "      <th>writing_score</th>\n",
       "    </tr>\n",
       "  </thead>\n",
       "  <tbody>\n",
       "    <tr>\n",
       "      <th>count</th>\n",
       "      <td>1000.00000</td>\n",
       "      <td>1000.000000</td>\n",
       "      <td>1000.000000</td>\n",
       "    </tr>\n",
       "    <tr>\n",
       "      <th>mean</th>\n",
       "      <td>66.08900</td>\n",
       "      <td>69.169000</td>\n",
       "      <td>68.054000</td>\n",
       "    </tr>\n",
       "    <tr>\n",
       "      <th>std</th>\n",
       "      <td>15.16308</td>\n",
       "      <td>14.600192</td>\n",
       "      <td>15.195657</td>\n",
       "    </tr>\n",
       "    <tr>\n",
       "      <th>min</th>\n",
       "      <td>0.00000</td>\n",
       "      <td>17.000000</td>\n",
       "      <td>10.000000</td>\n",
       "    </tr>\n",
       "    <tr>\n",
       "      <th>25%</th>\n",
       "      <td>57.00000</td>\n",
       "      <td>59.000000</td>\n",
       "      <td>57.750000</td>\n",
       "    </tr>\n",
       "    <tr>\n",
       "      <th>50%</th>\n",
       "      <td>66.00000</td>\n",
       "      <td>70.000000</td>\n",
       "      <td>69.000000</td>\n",
       "    </tr>\n",
       "    <tr>\n",
       "      <th>75%</th>\n",
       "      <td>77.00000</td>\n",
       "      <td>79.000000</td>\n",
       "      <td>79.000000</td>\n",
       "    </tr>\n",
       "    <tr>\n",
       "      <th>max</th>\n",
       "      <td>100.00000</td>\n",
       "      <td>100.000000</td>\n",
       "      <td>100.000000</td>\n",
       "    </tr>\n",
       "  </tbody>\n",
       "</table>\n",
       "</div>"
      ],
      "text/plain": [
       "       math_score  reading_score  writing_score\n",
       "count  1000.00000    1000.000000    1000.000000\n",
       "mean     66.08900      69.169000      68.054000\n",
       "std      15.16308      14.600192      15.195657\n",
       "min       0.00000      17.000000      10.000000\n",
       "25%      57.00000      59.000000      57.750000\n",
       "50%      66.00000      70.000000      69.000000\n",
       "75%      77.00000      79.000000      79.000000\n",
       "max     100.00000     100.000000     100.000000"
      ]
     },
     "execution_count": 85,
     "metadata": {},
     "output_type": "execute_result"
    }
   ],
   "source": [
    "df.describe()"
   ]
  },
  {
   "cell_type": "markdown",
   "id": "f9e10da9",
   "metadata": {},
   "source": [
    "**Insight**\n",
    "\n",
    "- From above description of numerical data, all means are very close to each other - between 66 and 68.05;\n",
    "- All standard deviations are also close - between 14.6 and 15.19;\n",
    "- While there is a minimum score 0 for math, for writing minimum is much higher = 10 and for reading myet higher = 17\n"
   ]
  },
  {
   "cell_type": "markdown",
   "id": "a55ff050",
   "metadata": {},
   "source": [
    "#### 3.6 Exploring Data"
   ]
  },
  {
   "cell_type": "code",
   "execution_count": 86,
   "id": "933bb169",
   "metadata": {},
   "outputs": [
    {
     "data": {
      "text/html": [
       "<div>\n",
       "<style scoped>\n",
       "    .dataframe tbody tr th:only-of-type {\n",
       "        vertical-align: middle;\n",
       "    }\n",
       "\n",
       "    .dataframe tbody tr th {\n",
       "        vertical-align: top;\n",
       "    }\n",
       "\n",
       "    .dataframe thead th {\n",
       "        text-align: right;\n",
       "    }\n",
       "</style>\n",
       "<table border=\"1\" class=\"dataframe\">\n",
       "  <thead>\n",
       "    <tr style=\"text-align: right;\">\n",
       "      <th></th>\n",
       "      <th>gender</th>\n",
       "      <th>race_ethnicity</th>\n",
       "      <th>parental_level_of_education</th>\n",
       "      <th>lunch</th>\n",
       "      <th>test_preparation_course</th>\n",
       "      <th>math_score</th>\n",
       "      <th>reading_score</th>\n",
       "      <th>writing_score</th>\n",
       "    </tr>\n",
       "  </thead>\n",
       "  <tbody>\n",
       "    <tr>\n",
       "      <th>0</th>\n",
       "      <td>female</td>\n",
       "      <td>group B</td>\n",
       "      <td>bachelor's degree</td>\n",
       "      <td>standard</td>\n",
       "      <td>none</td>\n",
       "      <td>72</td>\n",
       "      <td>72</td>\n",
       "      <td>74</td>\n",
       "    </tr>\n",
       "    <tr>\n",
       "      <th>1</th>\n",
       "      <td>female</td>\n",
       "      <td>group C</td>\n",
       "      <td>some college</td>\n",
       "      <td>standard</td>\n",
       "      <td>completed</td>\n",
       "      <td>69</td>\n",
       "      <td>90</td>\n",
       "      <td>88</td>\n",
       "    </tr>\n",
       "    <tr>\n",
       "      <th>2</th>\n",
       "      <td>female</td>\n",
       "      <td>group B</td>\n",
       "      <td>master's degree</td>\n",
       "      <td>standard</td>\n",
       "      <td>none</td>\n",
       "      <td>90</td>\n",
       "      <td>95</td>\n",
       "      <td>93</td>\n",
       "    </tr>\n",
       "    <tr>\n",
       "      <th>3</th>\n",
       "      <td>male</td>\n",
       "      <td>group A</td>\n",
       "      <td>associate's degree</td>\n",
       "      <td>free/reduced</td>\n",
       "      <td>none</td>\n",
       "      <td>47</td>\n",
       "      <td>57</td>\n",
       "      <td>44</td>\n",
       "    </tr>\n",
       "    <tr>\n",
       "      <th>4</th>\n",
       "      <td>male</td>\n",
       "      <td>group C</td>\n",
       "      <td>some college</td>\n",
       "      <td>standard</td>\n",
       "      <td>none</td>\n",
       "      <td>76</td>\n",
       "      <td>78</td>\n",
       "      <td>75</td>\n",
       "    </tr>\n",
       "  </tbody>\n",
       "</table>\n",
       "</div>"
      ],
      "text/plain": [
       "   gender race_ethnicity parental_level_of_education         lunch  \\\n",
       "0  female        group B           bachelor's degree      standard   \n",
       "1  female        group C                some college      standard   \n",
       "2  female        group B             master's degree      standard   \n",
       "3    male        group A          associate's degree  free/reduced   \n",
       "4    male        group C                some college      standard   \n",
       "\n",
       "  test_preparation_course  math_score  reading_score  writing_score  \n",
       "0                    none          72             72             74  \n",
       "1               completed          69             90             88  \n",
       "2                    none          90             95             93  \n",
       "3                    none          47             57             44  \n",
       "4                    none          76             78             75  "
      ]
     },
     "execution_count": 86,
     "metadata": {},
     "output_type": "execute_result"
    }
   ],
   "source": [
    "# Show first few rows of the dataset\n",
    "df.head()"
   ]
  },
  {
   "cell_type": "code",
   "execution_count": 87,
   "id": "a0a72526",
   "metadata": {},
   "outputs": [
    {
     "name": "stdout",
     "output_type": "stream",
     "text": [
      "Categories in 'gender': ['female' 'male']\n",
      "Categories in 'race_ethnicity': ['group B' 'group C' 'group A' 'group D' 'group E']\n",
      "Categories in 'parental_level_of_education': [\"bachelor's degree\" 'some college' \"master's degree\" \"associate's degree\"\n",
      " 'high school' 'some high school']\n",
      "Categories in 'lunch': ['standard' 'free/reduced']\n",
      "Categories in 'test_preparation_course': ['none' 'completed']\n"
     ]
    }
   ],
   "source": [
    "# Display unique values for categorical columns\n",
    "categorical_cols = ['gender', 'race_ethnicity', 'parental_level_of_education', 'lunch', 'test_preparation_course']\n",
    "\n",
    "for col in categorical_cols:\n",
    "    print(f\"Categories in '{col}': {df[col].unique()}\")"
   ]
  },
  {
   "cell_type": "code",
   "execution_count": 88,
   "id": "dc8ea05d",
   "metadata": {},
   "outputs": [
    {
     "name": "stdout",
     "output_type": "stream",
     "text": [
      "We have 3 numerical features: ['math_score', 'reading_score', 'writing_score']\n",
      "We have 5 categorical features: ['gender', 'race_ethnicity', 'parental_level_of_education', 'lunch', 'test_preparation_course']\n"
     ]
    }
   ],
   "source": [
    "# Identify numerical and categorical features\n",
    "numeric_features = df.select_dtypes(include=['int64', 'float64']).columns.tolist()\n",
    "categorical_features = df.select_dtypes(include=['object']).columns.tolist()\n",
    "\n",
    "# Print feature groups\n",
    "print(f\"We have {len(numeric_features)} numerical features: {numeric_features}\")\n",
    "print(f\"We have {len(categorical_features)} categorical features: {categorical_features}\")"
   ]
  },
  {
   "cell_type": "markdown",
   "id": "019ba780",
   "metadata": {},
   "source": [
    "#### 3.8 Adding columns for \"Total Score\" and \"Average\""
   ]
  },
  {
   "cell_type": "code",
   "execution_count": 89,
   "id": "486e1eb9",
   "metadata": {},
   "outputs": [
    {
     "data": {
      "text/html": [
       "<div>\n",
       "<style scoped>\n",
       "    .dataframe tbody tr th:only-of-type {\n",
       "        vertical-align: middle;\n",
       "    }\n",
       "\n",
       "    .dataframe tbody tr th {\n",
       "        vertical-align: top;\n",
       "    }\n",
       "\n",
       "    .dataframe thead th {\n",
       "        text-align: right;\n",
       "    }\n",
       "</style>\n",
       "<table border=\"1\" class=\"dataframe\">\n",
       "  <thead>\n",
       "    <tr style=\"text-align: right;\">\n",
       "      <th></th>\n",
       "      <th>gender</th>\n",
       "      <th>race_ethnicity</th>\n",
       "      <th>parental_level_of_education</th>\n",
       "      <th>lunch</th>\n",
       "      <th>test_preparation_course</th>\n",
       "      <th>math_score</th>\n",
       "      <th>reading_score</th>\n",
       "      <th>writing_score</th>\n",
       "      <th>total score</th>\n",
       "      <th>average</th>\n",
       "    </tr>\n",
       "  </thead>\n",
       "  <tbody>\n",
       "    <tr>\n",
       "      <th>0</th>\n",
       "      <td>female</td>\n",
       "      <td>group B</td>\n",
       "      <td>bachelor's degree</td>\n",
       "      <td>standard</td>\n",
       "      <td>none</td>\n",
       "      <td>72</td>\n",
       "      <td>72</td>\n",
       "      <td>74</td>\n",
       "      <td>218</td>\n",
       "      <td>72.666667</td>\n",
       "    </tr>\n",
       "    <tr>\n",
       "      <th>1</th>\n",
       "      <td>female</td>\n",
       "      <td>group C</td>\n",
       "      <td>some college</td>\n",
       "      <td>standard</td>\n",
       "      <td>completed</td>\n",
       "      <td>69</td>\n",
       "      <td>90</td>\n",
       "      <td>88</td>\n",
       "      <td>247</td>\n",
       "      <td>82.333333</td>\n",
       "    </tr>\n",
       "    <tr>\n",
       "      <th>2</th>\n",
       "      <td>female</td>\n",
       "      <td>group B</td>\n",
       "      <td>master's degree</td>\n",
       "      <td>standard</td>\n",
       "      <td>none</td>\n",
       "      <td>90</td>\n",
       "      <td>95</td>\n",
       "      <td>93</td>\n",
       "      <td>278</td>\n",
       "      <td>92.666667</td>\n",
       "    </tr>\n",
       "    <tr>\n",
       "      <th>3</th>\n",
       "      <td>male</td>\n",
       "      <td>group A</td>\n",
       "      <td>associate's degree</td>\n",
       "      <td>free/reduced</td>\n",
       "      <td>none</td>\n",
       "      <td>47</td>\n",
       "      <td>57</td>\n",
       "      <td>44</td>\n",
       "      <td>148</td>\n",
       "      <td>49.333333</td>\n",
       "    </tr>\n",
       "    <tr>\n",
       "      <th>4</th>\n",
       "      <td>male</td>\n",
       "      <td>group C</td>\n",
       "      <td>some college</td>\n",
       "      <td>standard</td>\n",
       "      <td>none</td>\n",
       "      <td>76</td>\n",
       "      <td>78</td>\n",
       "      <td>75</td>\n",
       "      <td>229</td>\n",
       "      <td>76.333333</td>\n",
       "    </tr>\n",
       "  </tbody>\n",
       "</table>\n",
       "</div>"
      ],
      "text/plain": [
       "   gender race_ethnicity parental_level_of_education         lunch  \\\n",
       "0  female        group B           bachelor's degree      standard   \n",
       "1  female        group C                some college      standard   \n",
       "2  female        group B             master's degree      standard   \n",
       "3    male        group A          associate's degree  free/reduced   \n",
       "4    male        group C                some college      standard   \n",
       "\n",
       "  test_preparation_course  math_score  reading_score  writing_score  \\\n",
       "0                    none          72             72             74   \n",
       "1               completed          69             90             88   \n",
       "2                    none          90             95             93   \n",
       "3                    none          47             57             44   \n",
       "4                    none          76             78             75   \n",
       "\n",
       "   total score    average  \n",
       "0          218  72.666667  \n",
       "1          247  82.333333  \n",
       "2          278  92.666667  \n",
       "3          148  49.333333  \n",
       "4          229  76.333333  "
      ]
     },
     "execution_count": 89,
     "metadata": {},
     "output_type": "execute_result"
    }
   ],
   "source": [
    "df['total score'] = df['math_score'] + df['reading_score'] + df['writing_score']\n",
    "df['average'] = df['total score']/3\n",
    "df.head()"
   ]
  },
  {
   "cell_type": "code",
   "execution_count": 90,
   "id": "8e5a3685",
   "metadata": {},
   "outputs": [
    {
     "name": "stdout",
     "output_type": "stream",
     "text": [
      "Students with Full Marks:\n",
      "Math:    7\n",
      "Reading: 17\n",
      "Writing: 14\n"
     ]
    }
   ],
   "source": [
    "# Count of students with full marks\n",
    "print(\"Students with Full Marks:\")\n",
    "print(\"Math:   \", df[df['math_score'] == 100]['average'].count())\n",
    "print(\"Reading:\", df[df['reading_score'] == 100]['average'].count())\n",
    "print(\"Writing:\", df[df['writing_score'] == 100]['average'].count())"
   ]
  },
  {
   "cell_type": "code",
   "execution_count": 91,
   "id": "839a07bc",
   "metadata": {},
   "outputs": [
    {
     "name": "stdout",
     "output_type": "stream",
     "text": [
      "Students with less than equal to 20 Marks:\n",
      "Math:    4\n",
      "Reading: 1\n",
      "Writing: 3\n"
     ]
    }
   ],
   "source": [
    "# Count of students scoring less than or equal to 20\n",
    "print(\"Students with less than equal to 20 Marks:\")\n",
    "print(\"Math:   \", df[df['math_score'] <= 20]['average'].count())\n",
    "print(\"Reading:\", df[df['reading_score'] <= 20]['average'].count())\n",
    "print(\"Writing:\", df[df['writing_score'] <= 20]['average'].count())\n"
   ]
  },
  {
   "cell_type": "markdown",
   "id": "12cfa257",
   "metadata": {},
   "source": [
    "**Insights**\n",
    "- From above values we get students have performed the worst in Maths\n",
    "- Best performance is in reading section"
   ]
  },
  {
   "cell_type": "markdown",
   "id": "75c0d801",
   "metadata": {},
   "source": [
    "### 4. Creating a Detailed Grade Column (Target Variable)\n",
    "\n",
    "To more accurately reflect student performance, we define a refined grading system:\n",
    "\n",
    "- A+: 95 and above  \n",
    "- A:  90–94  \n",
    "- B+: 85–89  \n",
    "- B:  75–84  \n",
    "- C+: 65–74  \n",
    "- C:  50–64\n",
    "- D:  40–49\n",
    "- E:  33–39\n",
    "- F:  Below 35  \n",
    "\n"
   ]
  },
  {
   "cell_type": "code",
   "execution_count": 92,
   "id": "3f204060",
   "metadata": {},
   "outputs": [],
   "source": [
    "def score_to_grade(avg):\n",
    "    if avg >= 95:\n",
    "        return 'A+'\n",
    "    elif avg >= 90:\n",
    "        return 'A'\n",
    "    elif avg >= 85:\n",
    "        return 'B+'\n",
    "    elif avg >= 75:\n",
    "        return 'B'\n",
    "    elif avg >= 65:\n",
    "        return 'C+'\n",
    "    elif avg >= 50:\n",
    "        return 'C'\n",
    "    elif avg >= 40:\n",
    "        return 'D'\n",
    "    elif avg >= 33:\n",
    "        return 'E'\n",
    "    else:\n",
    "        return 'F'\n",
    "\n",
    "df['grade'] = df['average'].apply(score_to_grade)\n"
   ]
  },
  {
   "cell_type": "code",
   "execution_count": 93,
   "id": "f7992cac",
   "metadata": {},
   "outputs": [
    {
     "data": {
      "text/html": [
       "<div>\n",
       "<style scoped>\n",
       "    .dataframe tbody tr th:only-of-type {\n",
       "        vertical-align: middle;\n",
       "    }\n",
       "\n",
       "    .dataframe tbody tr th {\n",
       "        vertical-align: top;\n",
       "    }\n",
       "\n",
       "    .dataframe thead th {\n",
       "        text-align: right;\n",
       "    }\n",
       "</style>\n",
       "<table border=\"1\" class=\"dataframe\">\n",
       "  <thead>\n",
       "    <tr style=\"text-align: right;\">\n",
       "      <th></th>\n",
       "      <th>gender</th>\n",
       "      <th>race_ethnicity</th>\n",
       "      <th>parental_level_of_education</th>\n",
       "      <th>lunch</th>\n",
       "      <th>test_preparation_course</th>\n",
       "      <th>math_score</th>\n",
       "      <th>reading_score</th>\n",
       "      <th>writing_score</th>\n",
       "      <th>total score</th>\n",
       "      <th>average</th>\n",
       "      <th>grade</th>\n",
       "    </tr>\n",
       "  </thead>\n",
       "  <tbody>\n",
       "    <tr>\n",
       "      <th>0</th>\n",
       "      <td>female</td>\n",
       "      <td>group B</td>\n",
       "      <td>bachelor's degree</td>\n",
       "      <td>standard</td>\n",
       "      <td>none</td>\n",
       "      <td>72</td>\n",
       "      <td>72</td>\n",
       "      <td>74</td>\n",
       "      <td>218</td>\n",
       "      <td>72.666667</td>\n",
       "      <td>C+</td>\n",
       "    </tr>\n",
       "    <tr>\n",
       "      <th>1</th>\n",
       "      <td>female</td>\n",
       "      <td>group C</td>\n",
       "      <td>some college</td>\n",
       "      <td>standard</td>\n",
       "      <td>completed</td>\n",
       "      <td>69</td>\n",
       "      <td>90</td>\n",
       "      <td>88</td>\n",
       "      <td>247</td>\n",
       "      <td>82.333333</td>\n",
       "      <td>B</td>\n",
       "    </tr>\n",
       "    <tr>\n",
       "      <th>2</th>\n",
       "      <td>female</td>\n",
       "      <td>group B</td>\n",
       "      <td>master's degree</td>\n",
       "      <td>standard</td>\n",
       "      <td>none</td>\n",
       "      <td>90</td>\n",
       "      <td>95</td>\n",
       "      <td>93</td>\n",
       "      <td>278</td>\n",
       "      <td>92.666667</td>\n",
       "      <td>A</td>\n",
       "    </tr>\n",
       "    <tr>\n",
       "      <th>3</th>\n",
       "      <td>male</td>\n",
       "      <td>group A</td>\n",
       "      <td>associate's degree</td>\n",
       "      <td>free/reduced</td>\n",
       "      <td>none</td>\n",
       "      <td>47</td>\n",
       "      <td>57</td>\n",
       "      <td>44</td>\n",
       "      <td>148</td>\n",
       "      <td>49.333333</td>\n",
       "      <td>D</td>\n",
       "    </tr>\n",
       "    <tr>\n",
       "      <th>4</th>\n",
       "      <td>male</td>\n",
       "      <td>group C</td>\n",
       "      <td>some college</td>\n",
       "      <td>standard</td>\n",
       "      <td>none</td>\n",
       "      <td>76</td>\n",
       "      <td>78</td>\n",
       "      <td>75</td>\n",
       "      <td>229</td>\n",
       "      <td>76.333333</td>\n",
       "      <td>B</td>\n",
       "    </tr>\n",
       "  </tbody>\n",
       "</table>\n",
       "</div>"
      ],
      "text/plain": [
       "   gender race_ethnicity parental_level_of_education         lunch  \\\n",
       "0  female        group B           bachelor's degree      standard   \n",
       "1  female        group C                some college      standard   \n",
       "2  female        group B             master's degree      standard   \n",
       "3    male        group A          associate's degree  free/reduced   \n",
       "4    male        group C                some college      standard   \n",
       "\n",
       "  test_preparation_course  math_score  reading_score  writing_score  \\\n",
       "0                    none          72             72             74   \n",
       "1               completed          69             90             88   \n",
       "2                    none          90             95             93   \n",
       "3                    none          47             57             44   \n",
       "4                    none          76             78             75   \n",
       "\n",
       "   total score    average grade  \n",
       "0          218  72.666667    C+  \n",
       "1          247  82.333333     B  \n",
       "2          278  92.666667     A  \n",
       "3          148  49.333333     D  \n",
       "4          229  76.333333     B  "
      ]
     },
     "execution_count": 93,
     "metadata": {},
     "output_type": "execute_result"
    }
   ],
   "source": [
    "df.head()"
   ]
  },
  {
   "cell_type": "code",
   "execution_count": 94,
   "id": "4e6124cb",
   "metadata": {},
   "outputs": [],
   "source": [
    "# Creating a new CSV file for our model training\n",
    "df.to_csv(\"student_data_training.csv\", index=False)"
   ]
  },
  {
   "cell_type": "markdown",
   "id": "239a767f",
   "metadata": {},
   "source": [
    "### 5. Data Visualization (With Grades)"
   ]
  },
  {
   "cell_type": "markdown",
   "id": "6efb216f",
   "metadata": {},
   "source": [
    "#### 5.1 Grade Distribution Overview\n",
    "This bar chart shows how students are distributed across each grade category\n"
   ]
  },
  {
   "cell_type": "code",
   "execution_count": 95,
   "id": "7dab53d3",
   "metadata": {},
   "outputs": [
    {
     "data": {
      "image/png": "[encoded data removed]",
      "text/plain": [
       "<Figure size 800x500 with 1 Axes>"
      ]
     },
     "metadata": {},
     "output_type": "display_data"
    }
   ],
   "source": [
    "# Define academic grade order (highest to lowest)\n",
    "grade_order = ['A+', 'A', 'B+', 'B', 'C+', 'C', 'D', 'E', 'F']\n",
    "\n",
    "plt.figure(figsize=(8, 5))\n",
    "sns.countplot(data=df, x='grade', order=grade_order, palette='Spectral')\n",
    "plt.title('Distribution of Grades')\n",
    "plt.xlabel('Grade')\n",
    "plt.ylabel('Number of Students')\n",
    "plt.grid(axis='y')\n",
    "plt.show()\n",
    "\n"
   ]
  },
  {
   "cell_type": "markdown",
   "id": "304e5a7d",
   "metadata": {},
   "source": [
    "#### 5.2 Grade Distribution by Gender\n",
    "This visualization compares how students of different genders are distributed across grades. \n",
    "It can highlight any performance gap or bias.\n"
   ]
  },
  {
   "cell_type": "code",
   "execution_count": 96,
   "id": "50cfe4b1",
   "metadata": {},
   "outputs": [
    {
     "data": {
      "image/png": "[encoded data removed]",
      "text/plain": [
       "<Figure size 800x500 with 1 Axes>"
      ]
     },
     "metadata": {},
     "output_type": "display_data"
    }
   ],
   "source": [
    "plt.figure(figsize=(8, 5))\n",
    "sns.countplot(data=df, x='grade', hue='gender', order=grade_order, palette='pastel')\n",
    "plt.title('Grade Distribution by Gender')\n",
    "plt.xlabel('Grade')\n",
    "plt.ylabel('Number of Students')\n",
    "plt.legend(title='Gender')\n",
    "plt.grid(axis='y')\n",
    "plt.show()"
   ]
  },
  {
   "cell_type": "markdown",
   "id": "800268ee",
   "metadata": {},
   "source": [
    "**Insight:**  \n",
    "- Female students dominate the higher grades (A+ and A), while male students are more frequent in lower grade bands\n",
    "- This suggests better average performance by females in this dataset.\n"
   ]
  },
  {
   "cell_type": "markdown",
   "id": "e42780f3",
   "metadata": {},
   "source": [
    "#### 5.3 Grade Distribution by Lunch Type\n",
    "This chart explores the impact of lunch type (standard vs free/reduced) on student grades.\n"
   ]
  },
  {
   "cell_type": "code",
   "execution_count": 97,
   "id": "7bfee1d2",
   "metadata": {},
   "outputs": [
    {
     "data": {
      "image/png": "[encoded data removed]",
      "text/plain": [
       "<Figure size 800x500 with 1 Axes>"
      ]
     },
     "metadata": {},
     "output_type": "display_data"
    }
   ],
   "source": [
    "plt.figure(figsize=(8, 5))\n",
    "sns.countplot(data=df, x='grade', hue='lunch', order=grade_order, palette='Set2')\n",
    "plt.title('Grade Distribution by Lunch Type')\n",
    "plt.xlabel('Grade')\n",
    "plt.ylabel('Number of Students')\n",
    "plt.legend(title='Lunch Type')\n",
    "plt.grid(axis='y')\n",
    "plt.show()\n"
   ]
  },
  {
   "cell_type": "markdown",
   "id": "a8ab1b79",
   "metadata": {},
   "source": [
    "**Insight (Lunch vs Grade):**\n",
    "- Students with **standard lunch** score more A+, A, and B+ grades.\n",
    "- **Free/reduced lunch** students are more in lower grades (C, D, E, F).\n",
    "- Suggests a link between **nutrition and academic performance**.\n"
   ]
  },
  {
   "cell_type": "markdown",
   "id": "858b854a",
   "metadata": {},
   "source": [
    "#### 5.4  Grade Distribution by Test Preparation Course\n",
    "\n",
    "This plot shows how test preparation impacts student grades.\n"
   ]
  },
  {
   "cell_type": "code",
   "execution_count": 98,
   "id": "389b4816",
   "metadata": {},
   "outputs": [
    {
     "data": {
      "image/png": "[encoded data removed]",
      "text/plain": [
       "<Figure size 800x500 with 1 Axes>"
      ]
     },
     "metadata": {},
     "output_type": "display_data"
    }
   ],
   "source": [
    "plt.figure(figsize=(8, 5))\n",
    "sns.countplot(data=df, x='grade', hue='test_preparation_course', order=grade_order, palette='Set3')\n",
    "plt.title('Grade Distribution by Test Preparation Course')\n",
    "plt.xlabel('Grade')\n",
    "plt.ylabel('Number of Students')\n",
    "plt.legend(title='Test Prep')\n",
    "plt.grid(axis='y')\n",
    "plt.show()"
   ]
  },
  {
   "cell_type": "markdown",
   "id": "7e8bc91d",
   "metadata": {},
   "source": [
    "**Insight:**\n",
    "- Students who **completed** the test prep course scored more **A+, A, B+** grades.\n",
    "- Students with **no preparation** are more distributed across **lower grades**.\n",
    "- Indicates test prep can significantly **boost academic performance**.\n"
   ]
  },
  {
   "cell_type": "markdown",
   "id": "ba57c7e7",
   "metadata": {},
   "source": [
    "#### 5.5 Grade vs Ethnicity Group\n",
    "\n",
    "This chart shows how grades vary across different race/ethnicity groups.\n"
   ]
  },
  {
   "cell_type": "code",
   "execution_count": 99,
   "id": "95704cd1",
   "metadata": {},
   "outputs": [
    {
     "data": {
      "image/png": "[encoded data removed]",
      "text/plain": [
       "<Figure size 800x500 with 1 Axes>"
      ]
     },
     "metadata": {},
     "output_type": "display_data"
    }
   ],
   "source": [
    "plt.figure(figsize=(8, 5))\n",
    "sns.countplot(data=df, x='grade', hue='race_ethnicity', order=grade_order, palette='Set2')\n",
    "plt.title('Grade Distribution by Ethnicity Group')\n",
    "plt.xlabel('Grade')\n",
    "plt.ylabel('Number of Students')\n",
    "plt.legend(title='Ethnicity Group', bbox_to_anchor=(1.05, 1), loc='upper left')\n",
    "plt.grid(axis='y')\n",
    "plt.tight_layout()\n",
    "plt.show()"
   ]
  },
  {
   "cell_type": "markdown",
   "id": "6b9e86bd",
   "metadata": {},
   "source": [
    "**Insight (Ethnicity vs Grade):**\n",
    "- Students from **Group E and D** tend to score more A+, A, and B+ grades.\n",
    "- **Group A and B** show a wider spread across lower and mid-range grades.\n",
    "- Indicates possible influence of background factors on performance.\n"
   ]
  },
  {
   "cell_type": "markdown",
   "id": "a8d4ac9a",
   "metadata": {},
   "source": [
    "#### 5.6 Grade vs Parental Level of Education\n",
    "This chart shows how students' grades vary with their parents' education levels.\n"
   ]
  },
  {
   "cell_type": "code",
   "execution_count": 100,
   "id": "d1720c50",
   "metadata": {},
   "outputs": [
    {
     "data": {
      "image/png": "[encoded data removed]",
      "text/plain": [
       "<Figure size 1000x600 with 1 Axes>"
      ]
     },
     "metadata": {},
     "output_type": "display_data"
    }
   ],
   "source": [
    "plt.figure(figsize=(10, 6))\n",
    "sns.countplot(data=df, x='grade', hue='parental_level_of_education', order=grade_order, palette='tab10')\n",
    "plt.title('Grade Distribution by Parental Level of Education')\n",
    "plt.xlabel('Grade')\n",
    "plt.ylabel('Number of Students')\n",
    "plt.legend(title='Parental Education', bbox_to_anchor=(1.05, 1), loc='upper left')\n",
    "plt.grid(axis='y')\n",
    "plt.tight_layout()\n",
    "plt.show()"
   ]
  },
  {
   "cell_type": "markdown",
   "id": "cf2e5dd9",
   "metadata": {},
   "source": [
    "**Insight:**\n",
    "- Students whose parents have an **associate's or master's degree** are more frequently found in **top grades (A+, A, B+)**.\n",
    "- Those with parents having only **high school or some high school education** tend to appear more in **lower grades (C, D, E)**.\n",
    "- However, overall, the impact of **parental education on grades is moderate**, not strongly decisive.\n"
   ]
  },
  {
   "cell_type": "markdown",
   "id": "7a1058c3",
   "metadata": {},
   "source": [
    "#### 5.7 Correlation Heatmap\n",
    "This heatmap shows how closely related the numerical features are to one another.\n"
   ]
  },
  {
   "cell_type": "code",
   "execution_count": 101,
   "id": "6af9ca59",
   "metadata": {},
   "outputs": [
    {
     "data": {
      "image/png": "[encoded data removed]",
      "text/plain": [
       "<Figure size 800x600 with 2 Axes>"
      ]
     },
     "metadata": {},
     "output_type": "display_data"
    }
   ],
   "source": [
    "plt.figure(figsize=(8, 6))\n",
    "sns.heatmap(df[['math_score', 'reading_score', 'writing_score', 'average', 'total score']].corr(), annot=True, cmap='YlGnBu', linewidths=0.5)\n",
    "plt.title('Correlation Heatmap of Numerical Features')\n",
    "plt.show()"
   ]
  },
  {
   "cell_type": "markdown",
   "id": "98c7ddeb",
   "metadata": {},
   "source": [
    "**Insight:**\n",
    "- All three subject scores have strong positive correlations with each other.\n",
    "- The **average** and **total** scores are highly correlated with individual subject scores — especially **reading** and **writing**.\n"
   ]
  },
  {
   "cell_type": "markdown",
   "id": "1109af01",
   "metadata": {},
   "source": [
    "### 6. Conclusion from EDA\n",
    "\n",
    "- No missing or duplicate values were found in the dataset.\n",
    "- Subject scores (math, reading, writing) are **strongly correlated** with each other.\n",
    "- Students with **standard lunch** and those who **completed the test preparation course** tend to have **higher grades**.\n",
    "- **Parental education** shows moderate impact — higher educated parents are slightly more associated with better-performing students.\n",
    "- A new **`grade` column** was successfully created based on the **average score**, providing a categorical target for prediction.\n",
    "- The data is clean and ready for preprocessing and model building.\n"
   ]
  }
 ],
 "metadata": {
  "kernelspec": {
   "display_name": "Python 3",
   "language": "python",
   "name": "python3"
  },
  "language_info": {
   "codemirror_mode": {
    "name": "ipython",
    "version": 3
   },
   "file_extension": ".py",
   "mimetype": "text/x-python",
   "name": "python",
   "nbconvert_exporter": "python",
   "pygments_lexer": "ipython3",
   "version": "3.13.5"
  }
 },
 "nbformat": 4,
 "nbformat_minor": 5
}
