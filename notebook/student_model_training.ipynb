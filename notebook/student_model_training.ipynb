{
 "cells": [
  {
   "cell_type": "markdown",
   "id": "2c8002d1",
   "metadata": {},
   "source": [
    "# Student Performance Predictor — Model Training Notebook\n",
    "\n",
    "This notebook focuses on building a machine learning model to predict student performance in the form of **grades** (A+, A, B+, etc.), using selected behavioral and academic features.\n",
    "\n",
    "We aim to use only meaningful indicators (like test preparation, lunch type, and writing scores) to prevent the model from simply acting as a calculator. Instead, it will reflect realistic performance predictors.\n",
    "\n",
    "---\n",
    "\n",
    "### Goal:\n",
    "- Train a classification model that predicts a student's **grade**\n",
    "- Evaluate multiple algorithms\n",
    "- Choose and save the best one for deployment\n",
    "\n"
   ]
  },
  {
   "cell_type": "markdown",
   "id": "a48bec36",
   "metadata": {},
   "source": [
    "### 1. Data Preparation\n",
    "\n",
    "In this section, we will prepare our dataset for model training by selecting the appropriate input features and the target variable. We are intentionally avoiding using all score-based features to ensure the model does not simply act as a calculator.\n",
    "\n"
   ]
  },
  {
   "cell_type": "markdown",
   "id": "863ff17a",
   "metadata": {},
   "source": [
    "#### Required Libraries"
   ]
  },
  {
   "cell_type": "code",
   "execution_count": 51,
   "id": "bb3c7890",
   "metadata": {},
   "outputs": [],
   "source": [
    "# Basic Libraries\n",
    "import pandas as pd\n",
    "import numpy as np\n",
    "import matplotlib.pyplot as plt\n",
    "import seaborn as sns\n",
    "\n",
    "# Preprocessing and Modeling\n",
    "from sklearn.model_selection import train_test_split\n",
    "from sklearn.preprocessing import OneHotEncoder,LabelEncoder,StandardScaler\n",
    "from sklearn.compose import ColumnTransformer\n",
    "from sklearn.pipeline import Pipeline\n",
    "from sklearn.ensemble import RandomForestClassifier\n",
    "from sklearn.linear_model import LogisticRegression\n",
    "from sklearn.tree import DecisionTreeClassifier\n",
    "from sklearn.svm import SVC\n",
    "from sklearn.neighbors import KNeighborsClassifier\n",
    "from sklearn.model_selection import cross_val_score, StratifiedKFold\n",
    "from sklearn.metrics import accuracy_score, classification_report, confusion_matrix\n",
    "\n",
    "# Hyperparameter Tuning\n",
    "from sklearn.model_selection import GridSearchCV\n",
    "\n",
    "# Save Model\n",
    "import pickle\n",
    "\n",
    "# Warnings\n",
    "import warnings\n",
    "warnings.filterwarnings('ignore')"
   ]
  },
  {
   "cell_type": "markdown",
   "id": "7f0a0170",
   "metadata": {},
   "source": [
    "#### 1.1 Load Cleaned Dataset"
   ]
  },
  {
   "cell_type": "code",
   "execution_count": 15,
   "id": "ca1bb007",
   "metadata": {},
   "outputs": [
    {
     "data": {
      "text/html": [
       "<div>\n",
       "<style scoped>\n",
       "    .dataframe tbody tr th:only-of-type {\n",
       "        vertical-align: middle;\n",
       "    }\n",
       "\n",
       "    .dataframe tbody tr th {\n",
       "        vertical-align: top;\n",
       "    }\n",
       "\n",
       "    .dataframe thead th {\n",
       "        text-align: right;\n",
       "    }\n",
       "</style>\n",
       "<table border=\"1\" class=\"dataframe\">\n",
       "  <thead>\n",
       "    <tr style=\"text-align: right;\">\n",
       "      <th></th>\n",
       "      <th>gender</th>\n",
       "      <th>race_ethnicity</th>\n",
       "      <th>parental_level_of_education</th>\n",
       "      <th>lunch</th>\n",
       "      <th>test_preparation_course</th>\n",
       "      <th>math_score</th>\n",
       "      <th>reading_score</th>\n",
       "      <th>writing_score</th>\n",
       "      <th>total score</th>\n",
       "      <th>average</th>\n",
       "      <th>grade</th>\n",
       "    </tr>\n",
       "  </thead>\n",
       "  <tbody>\n",
       "    <tr>\n",
       "      <th>0</th>\n",
       "      <td>female</td>\n",
       "      <td>group B</td>\n",
       "      <td>bachelor's degree</td>\n",
       "      <td>standard</td>\n",
       "      <td>none</td>\n",
       "      <td>72</td>\n",
       "      <td>72</td>\n",
       "      <td>74</td>\n",
       "      <td>218</td>\n",
       "      <td>72.666667</td>\n",
       "      <td>C+</td>\n",
       "    </tr>\n",
       "    <tr>\n",
       "      <th>1</th>\n",
       "      <td>female</td>\n",
       "      <td>group C</td>\n",
       "      <td>some college</td>\n",
       "      <td>standard</td>\n",
       "      <td>completed</td>\n",
       "      <td>69</td>\n",
       "      <td>90</td>\n",
       "      <td>88</td>\n",
       "      <td>247</td>\n",
       "      <td>82.333333</td>\n",
       "      <td>B</td>\n",
       "    </tr>\n",
       "    <tr>\n",
       "      <th>2</th>\n",
       "      <td>female</td>\n",
       "      <td>group B</td>\n",
       "      <td>master's degree</td>\n",
       "      <td>standard</td>\n",
       "      <td>none</td>\n",
       "      <td>90</td>\n",
       "      <td>95</td>\n",
       "      <td>93</td>\n",
       "      <td>278</td>\n",
       "      <td>92.666667</td>\n",
       "      <td>A</td>\n",
       "    </tr>\n",
       "    <tr>\n",
       "      <th>3</th>\n",
       "      <td>male</td>\n",
       "      <td>group A</td>\n",
       "      <td>associate's degree</td>\n",
       "      <td>free/reduced</td>\n",
       "      <td>none</td>\n",
       "      <td>47</td>\n",
       "      <td>57</td>\n",
       "      <td>44</td>\n",
       "      <td>148</td>\n",
       "      <td>49.333333</td>\n",
       "      <td>D</td>\n",
       "    </tr>\n",
       "    <tr>\n",
       "      <th>4</th>\n",
       "      <td>male</td>\n",
       "      <td>group C</td>\n",
       "      <td>some college</td>\n",
       "      <td>standard</td>\n",
       "      <td>none</td>\n",
       "      <td>76</td>\n",
       "      <td>78</td>\n",
       "      <td>75</td>\n",
       "      <td>229</td>\n",
       "      <td>76.333333</td>\n",
       "      <td>B</td>\n",
       "    </tr>\n",
       "  </tbody>\n",
       "</table>\n",
       "</div>"
      ],
      "text/plain": [
       "   gender race_ethnicity parental_level_of_education         lunch  \\\n",
       "0  female        group B           bachelor's degree      standard   \n",
       "1  female        group C                some college      standard   \n",
       "2  female        group B             master's degree      standard   \n",
       "3    male        group A          associate's degree  free/reduced   \n",
       "4    male        group C                some college      standard   \n",
       "\n",
       "  test_preparation_course  math_score  reading_score  writing_score  \\\n",
       "0                    none          72             72             74   \n",
       "1               completed          69             90             88   \n",
       "2                    none          90             95             93   \n",
       "3                    none          47             57             44   \n",
       "4                    none          76             78             75   \n",
       "\n",
       "   total score    average grade  \n",
       "0          218  72.666667    C+  \n",
       "1          247  82.333333     B  \n",
       "2          278  92.666667     A  \n",
       "3          148  49.333333     D  \n",
       "4          229  76.333333     B  "
      ]
     },
     "execution_count": 15,
     "metadata": {},
     "output_type": "execute_result"
    }
   ],
   "source": [
    "# Load the cleaned dataset\n",
    "import pandas as pd\n",
    "df = pd.read_csv(\"student_data_training.csv\") \n",
    "df.head()"
   ]
  },
  {
   "cell_type": "markdown",
   "id": "6cd8667d",
   "metadata": {},
   "source": [
    "#### 1.2 Feature and Target Selection\n",
    "**Input Features:**\n",
    "- `test_preparation_course`  \n",
    "- `lunch`  \n",
    "- `gender`  \n",
    "- `writing_score`\n",
    "- `'reading_score'`\n",
    "\n",
    "**Target Variable:**\n",
    "- `grade` — the final classification label for performance"
   ]
  },
  {
   "cell_type": "code",
   "execution_count": 37,
   "id": "5c6674b0",
   "metadata": {},
   "outputs": [
    {
     "data": {
      "text/html": [
       "<div>\n",
       "<style scoped>\n",
       "    .dataframe tbody tr th:only-of-type {\n",
       "        vertical-align: middle;\n",
       "    }\n",
       "\n",
       "    .dataframe tbody tr th {\n",
       "        vertical-align: top;\n",
       "    }\n",
       "\n",
       "    .dataframe thead th {\n",
       "        text-align: right;\n",
       "    }\n",
       "</style>\n",
       "<table border=\"1\" class=\"dataframe\">\n",
       "  <thead>\n",
       "    <tr style=\"text-align: right;\">\n",
       "      <th></th>\n",
       "      <th>test_preparation_course</th>\n",
       "      <th>lunch</th>\n",
       "      <th>gender</th>\n",
       "      <th>writing_score</th>\n",
       "      <th>reading_score</th>\n",
       "    </tr>\n",
       "  </thead>\n",
       "  <tbody>\n",
       "    <tr>\n",
       "      <th>0</th>\n",
       "      <td>none</td>\n",
       "      <td>standard</td>\n",
       "      <td>female</td>\n",
       "      <td>74</td>\n",
       "      <td>72</td>\n",
       "    </tr>\n",
       "    <tr>\n",
       "      <th>1</th>\n",
       "      <td>completed</td>\n",
       "      <td>standard</td>\n",
       "      <td>female</td>\n",
       "      <td>88</td>\n",
       "      <td>90</td>\n",
       "    </tr>\n",
       "    <tr>\n",
       "      <th>2</th>\n",
       "      <td>none</td>\n",
       "      <td>standard</td>\n",
       "      <td>female</td>\n",
       "      <td>93</td>\n",
       "      <td>95</td>\n",
       "    </tr>\n",
       "    <tr>\n",
       "      <th>3</th>\n",
       "      <td>none</td>\n",
       "      <td>free/reduced</td>\n",
       "      <td>male</td>\n",
       "      <td>44</td>\n",
       "      <td>57</td>\n",
       "    </tr>\n",
       "    <tr>\n",
       "      <th>4</th>\n",
       "      <td>none</td>\n",
       "      <td>standard</td>\n",
       "      <td>male</td>\n",
       "      <td>75</td>\n",
       "      <td>78</td>\n",
       "    </tr>\n",
       "  </tbody>\n",
       "</table>\n",
       "</div>"
      ],
      "text/plain": [
       "  test_preparation_course         lunch  gender  writing_score  reading_score\n",
       "0                    none      standard  female             74             72\n",
       "1               completed      standard  female             88             90\n",
       "2                    none      standard  female             93             95\n",
       "3                    none  free/reduced    male             44             57\n",
       "4                    none      standard    male             75             78"
      ]
     },
     "execution_count": 37,
     "metadata": {},
     "output_type": "execute_result"
    }
   ],
   "source": [
    "# Select Features and Target Variable\n",
    "features= ['test_preparation_course', 'lunch', 'gender', 'writing_score','reading_score']\n",
    "target = 'grade'\n",
    "\n",
    "X = df[features]\n",
    "y = df[target]\n",
    "\n",
    "X.head()"
   ]
  },
  {
   "cell_type": "markdown",
   "id": "aca7d0b3",
   "metadata": {},
   "source": [
    "#### 1.3 Encoding and Scaling features"
   ]
  },
  {
   "cell_type": "code",
   "execution_count": 38,
   "id": "c2544a78",
   "metadata": {},
   "outputs": [
    {
     "name": "stdout",
     "output_type": "stream",
     "text": [
      "Shape after encoding and scaling: (1000, 5)\n"
     ]
    }
   ],
   "source": [
    "# Categorical and numerical features\n",
    "cat_features = ['test_preparation_course', 'lunch', 'gender']\n",
    "num_features = ['writing_score','reading_score']\n",
    "\n",
    "# Define ColumnTransformer for encoding + scaling\n",
    "preprocessor = ColumnTransformer(\n",
    "    transformers=[\n",
    "        (\"onehot\", OneHotEncoder(drop=\"first\"), cat_features),\n",
    "        (\"scaler\", StandardScaler(), num_features)\n",
    "    ]\n",
    ")\n",
    "\n",
    "# Apply transformations\n",
    "X_final = preprocessor.fit_transform(X)\n",
    "# Check result\n",
    "print(f\"Shape after encoding and scaling: {X_final.shape}\")\n"
   ]
  },
  {
   "cell_type": "code",
   "execution_count": 39,
   "id": "f7ab626a",
   "metadata": {},
   "outputs": [
    {
     "name": "stdout",
     "output_type": "stream",
     "text": [
      "Grade to Label Mapping:\n",
      "{'A': 0, 'A+': 1, 'B': 2, 'B+': 3, 'C': 4, 'C+': 5, 'D': 6, 'E': 7, 'F': 8}\n"
     ]
    }
   ],
   "source": [
    "# Initialize LabelEncoder\n",
    "label_encoder = LabelEncoder()\n",
    "\n",
    "# Encode the target column (grade)\n",
    "y_final = label_encoder.fit_transform(y)\n",
    "\n",
    "# Display the label mapping\n",
    "label_mapping = {label: idx for idx, label in enumerate(label_encoder.classes_)}\n",
    "print(\"Grade to Label Mapping:\")\n",
    "print(label_mapping)"
   ]
  },
  {
   "cell_type": "markdown",
   "id": "acf20b39",
   "metadata": {},
   "source": [
    "#### 1.4 Train Test Split"
   ]
  },
  {
   "cell_type": "code",
   "execution_count": 40,
   "id": "af646b85",
   "metadata": {},
   "outputs": [
    {
     "name": "stdout",
     "output_type": "stream",
     "text": [
      "X_train shape: (800, 5)\n",
      "X_test shape: (200, 5)\n",
      "y_train shape: (800,)\n",
      "y_test shape: (200,)\n"
     ]
    }
   ],
   "source": [
    "# Split data into 80% training and 20% testing\n",
    "X_train, X_test, y_train, y_test = train_test_split(\n",
    "    X_final, y_final, test_size=0.2, random_state=42, stratify=y_final\n",
    ")\n",
    "\n",
    "# Check shapes\n",
    "print(f\"X_train shape: {X_train.shape}\")\n",
    "print(f\"X_test shape: {X_test.shape}\")\n",
    "print(f\"y_train shape: {y_train.shape}\")\n",
    "print(f\"y_test shape: {y_test.shape}\")\n"
   ]
  },
  {
   "cell_type": "markdown",
   "id": "9b1447bb",
   "metadata": {},
   "source": [
    "### 2. Model Training & Evaluation\n",
    "With our data cleaned, encoded, scaled, and split into training and testing sets, we now move into the core machine learning phase.\n",
    "We will:\n",
    "- Train multiple classification models\n",
    "- Evaluate them on the test set\n",
    "- Select the one with the best performance for deployment\n",
    "\n"
   ]
  },
  {
   "cell_type": "markdown",
   "id": "704923ad",
   "metadata": {},
   "source": [
    "#### 2.1 Training Multiple Classifiers\n",
    "- Logistic Regression\n",
    "- Decision Tree Classifier\n",
    "- Random Forest Classifier\n",
    "- Support Vector Classifier (SVC)\n",
    "- K-Nearest Neighbors (KNN)"
   ]
  },
  {
   "cell_type": "code",
   "execution_count": 45,
   "id": "8b04fc10",
   "metadata": {},
   "outputs": [
    {
     "name": "stdout",
     "output_type": "stream",
     "text": [
      "Logistic Regression: Accuracy = 0.7500\n",
      "Decision Tree: Accuracy = 0.7550\n",
      "Random Forest: Accuracy = 0.8050\n",
      "SVC: Accuracy = 0.8250\n",
      "KNN: Accuracy = 0.7950\n"
     ]
    }
   ],
   "source": [
    "# Initialize classifiers\n",
    "models = {\n",
    "    \"Logistic Regression\": LogisticRegression(max_iter=1000),\n",
    "    \"Decision Tree\": DecisionTreeClassifier(random_state=42),\n",
    "    \"Random Forest\": RandomForestClassifier(random_state=42),\n",
    "    \"SVC\": SVC(),\n",
    "    \"KNN\": KNeighborsClassifier()\n",
    "}\n",
    "\n",
    "# Train and evaluate\n",
    "for name, model in models.items():\n",
    "    model.fit(X_train, y_train)\n",
    "    y_pred = model.predict(X_test)\n",
    "    acc = accuracy_score(y_test, y_pred)\n",
    "    print(f\"{name}: Accuracy = {acc:.4f}\")\n",
    "\n"
   ]
  },
  {
   "cell_type": "markdown",
   "id": "8c5c238b",
   "metadata": {},
   "source": [
    "#### 2.2 Evaluate Best Performing Model"
   ]
  },
  {
   "cell_type": "code",
   "execution_count": 47,
   "id": "cee40fa5",
   "metadata": {},
   "outputs": [
    {
     "name": "stdout",
     "output_type": "stream",
     "text": [
      "Test Accuracy of SVC: 0.8400\n",
      "\n",
      "Classification Report:\n",
      "\n",
      "              precision    recall  f1-score   support\n",
      "\n",
      "           A       0.80      0.67      0.73         6\n",
      "          A+       1.00      0.75      0.86         4\n",
      "           B       0.78      0.90      0.84        42\n",
      "          B+       0.79      0.85      0.81        13\n",
      "           C       0.91      0.90      0.91        59\n",
      "          C+       0.84      0.76      0.80        55\n",
      "           D       0.82      0.93      0.88        15\n",
      "           E       0.00      0.00      0.00         3\n",
      "           F       0.75      1.00      0.86         3\n",
      "\n",
      "    accuracy                           0.84       200\n",
      "   macro avg       0.74      0.75      0.74       200\n",
      "weighted avg       0.83      0.84      0.83       200\n",
      "\n"
     ]
    }
   ],
   "source": [
    "# Train the final SVC model\n",
    "svc_model = SVC(kernel='rbf', C=100, gamma=0.01)\n",
    "svc_model.fit(X_train, y_train)\n",
    "\n",
    "# Predict\n",
    "y_pred = svc_model.predict(X_test)\n",
    "\n",
    "# Evaluate\n",
    "print(f\"Test Accuracy of SVC: {accuracy_score(y_test, y_pred):.4f}\")\n",
    "print(\"\\nClassification Report:\\n\")\n",
    "print(classification_report(y_test, y_pred, target_names=label_encoder.classes_))"
   ]
  },
  {
   "cell_type": "markdown",
   "id": "a7554e26",
   "metadata": {},
   "source": [
    "#### 2.3 Cross Validation"
   ]
  },
  {
   "cell_type": "code",
   "execution_count": null,
   "id": "84af9ee4",
   "metadata": {},
   "outputs": [
    {
     "name": "stdout",
     "output_type": "stream",
     "text": [
      "Cross-Validation Scores: [0.85 0.87 0.86 0.85 0.8 ]\n",
      "Mean CV Accuracy: 0.846\n"
     ]
    }
   ],
   "source": [
    "# Use the best model so far: SVC\n",
    "svc_model = SVC(kernel='rbf', C=100, gamma=0.01)\n",
    "\n",
    "# Set up Stratified K-Fold\n",
    "skf = StratifiedKFold(n_splits=5, shuffle=True, random_state=42)\n",
    "\n",
    "# Get cross-validation scores\n",
    "cv_scores = cross_val_score(svc_model, X_final, y_final, cv=skf)\n",
    "\n",
    "# Display results\n",
    "print(\"Cross-Validation Scores:\", cv_scores)\n",
    "print(\"Mean CV Accuracy:\", np.mean(cv_scores).round(4))\n"
   ]
  },
  {
   "cell_type": "markdown",
   "id": "7e3f84cd",
   "metadata": {},
   "source": [
    "#### 2.4 Hyperparameter Tuning using GridSearchCV"
   ]
  },
  {
   "cell_type": "code",
   "execution_count": 50,
   "id": "2e0c6adf",
   "metadata": {},
   "outputs": [
    {
     "name": "stdout",
     "output_type": "stream",
     "text": [
      "Fitting 5 folds for each of 9 candidates, totalling 45 fits\n",
      "Best Parameters: {'C': 10, 'gamma': 0.1, 'kernel': 'rbf'}\n",
      "Best Cross-Validation Accuracy: 0.8400000000000001\n",
      "Test Accuracy: 0.845\n"
     ]
    }
   ],
   "source": [
    "# Define parameter grid\n",
    "param_grid = {\n",
    "    'C': [1, 10, 100],\n",
    "    'gamma': [0.1, 0.01, 0.001],\n",
    "    'kernel': ['rbf']\n",
    "}\n",
    "\n",
    "# Initialize SVC model\n",
    "svc = SVC()\n",
    "\n",
    "# GridSearchCV with 5-fold cross-validation\n",
    "grid_search = GridSearchCV(svc, param_grid, cv=5, scoring='accuracy', verbose=1, n_jobs=-1)\n",
    "grid_search.fit(X_train, y_train)\n",
    "\n",
    "# Best parameters and score\n",
    "print(\"Best Parameters:\", grid_search.best_params_)\n",
    "print(\"Best Cross-Validation Accuracy:\", grid_search.best_score_)\n",
    "\n",
    "# Evaluate on test set\n",
    "best_model = grid_search.best_estimator_\n",
    "test_accuracy = best_model.score(X_test, y_test)\n",
    "print(\"Test Accuracy:\", round(test_accuracy, 4))\n"
   ]
  },
  {
   "cell_type": "markdown",
   "id": "2e271acb",
   "metadata": {},
   "source": [
    "#### 2.5 Model Evaluation and Classification Report\n",
    "\n",
    "After selecting the best hyperparameters through GridSearchCV, we now evaluate the final SVC model's performance using precision, recall, F1-score, and the confusion matrix.\n"
   ]
  },
  {
   "cell_type": "code",
   "execution_count": 53,
   "id": "e59bf1f9",
   "metadata": {},
   "outputs": [
    {
     "name": "stdout",
     "output_type": "stream",
     "text": [
      "Classification Report:\n",
      "              precision    recall  f1-score   support\n",
      "\n",
      "           A       0.80      0.67      0.73         6\n",
      "          A+       1.00      0.75      0.86         4\n",
      "           B       0.79      0.90      0.84        42\n",
      "          B+       0.79      0.85      0.81        13\n",
      "           C       0.91      0.90      0.91        59\n",
      "          C+       0.85      0.80      0.82        55\n",
      "           D       0.81      0.87      0.84        15\n",
      "           E       0.00      0.00      0.00         3\n",
      "           F       0.75      1.00      0.86         3\n",
      "\n",
      "    accuracy                           0.84       200\n",
      "   macro avg       0.74      0.75      0.74       200\n",
      "weighted avg       0.84      0.84      0.84       200\n",
      "\n"
     ]
    },
    {
     "data": {
      "image/png": "[encoded data removed]",
      "text/plain": [
       "<Figure size 600x400 with 2 Axes>"
      ]
     },
     "metadata": {},
     "output_type": "display_data"
    }
   ],
   "source": [
    "from sklearn.metrics import classification_report, confusion_matrix\n",
    "\n",
    "# Predict on test set\n",
    "y_pred = best_model.predict(X_test)\n",
    "\n",
    "# Print classification report\n",
    "print(\"Classification Report:\")\n",
    "print(classification_report(y_test, y_pred, target_names=label_encoder.classes_))\n",
    "\n",
    "# Confusion Matrix\n",
    "cm = confusion_matrix(y_test, y_pred)\n",
    "plt.figure(figsize=(6, 4))\n",
    "sns.heatmap(cm, annot=True, fmt='d', cmap='Blues',\n",
    "            xticklabels=label_encoder.classes_,\n",
    "            yticklabels=label_encoder.classes_)\n",
    "plt.xlabel(\"Predicted\")\n",
    "plt.ylabel(\"Actual\")\n",
    "plt.title(\"Confusion Matrix\")\n",
    "plt.show()\n"
   ]
  },
  {
   "cell_type": "markdown",
   "id": "601fb6fe",
   "metadata": {},
   "source": [
    "### 3. Saving the Trained Model"
   ]
  },
  {
   "cell_type": "markdown",
   "id": "16b86625",
   "metadata": {},
   "source": [
    "#### 3.1 Saving the Trained Model and Transformers\n",
    "- The **trained model** (`best_model`)\n",
    "- The **Label Encoder** used to encode grades\n",
    "- The **ColumnTransformer** (`preprocessor`) that handles scaling and one-hot encoding\n"
   ]
  },
  {
   "cell_type": "code",
   "execution_count": null,
   "id": "89218550",
   "metadata": {},
   "outputs": [
    {
     "name": "stdout",
     "output_type": "stream",
     "text": [
      "Model, Label Encoder, and Preprocessor saved in 'artifacts/' folder.\n"
     ]
    }
   ],
   "source": [
    "import os\n",
    "import joblib\n",
    "\n",
    "# Directory to store saved files\n",
    "os.makedirs(\"../artifacts\", exist_ok=True)\n",
    "\n",
    "# Save the best model\n",
    "joblib.dump(best_model, \"../artifacts/svc_model.pkl\")\n",
    "\n",
    "# Save the label encoder for target variable\n",
    "joblib.dump(label_encoder, \"../artifacts/label_encoder.pkl\")\n",
    "\n",
    "# Save the preprocessor (encoder + scaler)\n",
    "joblib.dump(preprocessor, \"../artifacts/preprocessor.pkl\")\n",
    "\n",
    "print(\"Model, Label Encoder, and Preprocessor saved in 'artifacts/' folder.\")\n"
   ]
  },
  {
   "cell_type": "markdown",
   "id": "53824784",
   "metadata": {},
   "source": [
    "#### 3.2 Load and Test Saved Model  \n",
    "We will load the saved SVC model, preprocessor, and label encoder from the `artifacts` folder and test it using a sample input.\n"
   ]
  },
  {
   "cell_type": "code",
   "execution_count": 57,
   "id": "4d2eab9b",
   "metadata": {},
   "outputs": [
    {
     "name": "stdout",
     "output_type": "stream",
     "text": [
      "Predicted Grade: B\n"
     ]
    }
   ],
   "source": [
    "# Load saved components\n",
    "loaded_model = joblib.load(\"../artifacts/svc_model.pkl\")\n",
    "loaded_preprocessor = joblib.load(\"../artifacts/preprocessor.pkl\")\n",
    "loaded_label_encoder = joblib.load(\"../artifacts/label_encoder.pkl\")\n",
    "\n",
    "# Sample input (adjust as needed)\n",
    "sample_data = pd.DataFrame({\n",
    "    'test_preparation_course': ['completed'],\n",
    "    'lunch': ['standard'],\n",
    "    'gender': ['female'],\n",
    "    'writing_score': [85],\n",
    "    'reading_score': [88]\n",
    "})\n",
    "\n",
    "# Preprocess sample input\n",
    "sample_processed = loaded_preprocessor.transform(sample_data)\n",
    "\n",
    "# Predict\n",
    "predicted_label = loaded_model.predict(sample_processed)\n",
    "\n",
    "# Decode label\n",
    "predicted_grade = loaded_label_encoder.inverse_transform(predicted_label)\n",
    "print(\"Predicted Grade:\", predicted_grade[0])\n"
   ]
  },
  {
   "cell_type": "markdown",
   "id": "9340fd37",
   "metadata": {},
   "source": [
    "#### 3.3 Wrap Prediction Logic into a Function  \n",
    "To make deployment and testing easier, we'll create a function that takes in user inputs, preprocesses the data, performs prediction, and returns the predicted grade.\n"
   ]
  },
  {
   "cell_type": "code",
   "execution_count": 59,
   "id": "9049f1f1",
   "metadata": {},
   "outputs": [
    {
     "data": {
      "text/plain": [
       "'B'"
      ]
     },
     "execution_count": 59,
     "metadata": {},
     "output_type": "execute_result"
    }
   ],
   "source": [
    "def predict_grade(test_prep, lunch, gender, writing_score, reading_score):\n",
    "    # Load saved components\n",
    "    model = joblib.load(\"../artifacts/svc_model.pkl\")\n",
    "    preprocessor = joblib.load(\"../artifacts/preprocessor.pkl\")\n",
    "    label_encoder = joblib.load(\"../artifacts/label_encoder.pkl\")\n",
    "    \n",
    "    # Prepare the input as DataFrame\n",
    "    input_df = pd.DataFrame({\n",
    "        'test_preparation_course': [test_prep],\n",
    "        'lunch': [lunch],\n",
    "        'gender': [gender],\n",
    "        'writing_score': [writing_score],\n",
    "        'reading_score': [reading_score]\n",
    "    })\n",
    "    \n",
    "    # Preprocess input\n",
    "    transformed_input = preprocessor.transform(input_df)\n",
    "    \n",
    "    # Predict and decode\n",
    "    prediction = model.predict(transformed_input)\n",
    "    grade = label_encoder.inverse_transform(prediction)[0]\n",
    "    \n",
    "    return grade\n",
    "\n",
    "predict_grade(\"completed\", \"standard\", \"female\", 85, 88)\n"
   ]
  },
  {
   "cell_type": "markdown",
   "id": "8236d3a7",
   "metadata": {},
   "source": [
    "### 4. Conclusion\n",
    "In this notebook, we built a classification model to predict student performance (in terms of grades) based on parameters such as:\n",
    "- Test preparation course\n",
    "- Lunch type\n",
    "- Gender\n",
    "- Writing score\n",
    "- Reading score\n",
    "\n",
    "**We performed the following:**\n",
    "- Encoded and scaled features using ColumnTransformer\n",
    "- Encoded target grades using LabelEncoder\n",
    "- Trained multiple models and evaluated their performance\n",
    "- Tuned hyperparameters using GridSearchCV for the Support Vector Classifier (SVC)\n",
    "- Achieved a final test accuracy of `84.5%`\n"
   ]
  }
 ],
 "metadata": {
  "kernelspec": {
   "display_name": "Python 3",
   "language": "python",
   "name": "python3"
  },
  "language_info": {
   "codemirror_mode": {
    "name": "ipython",
    "version": 3
   },
   "file_extension": ".py",
   "mimetype": "text/x-python",
   "name": "python",
   "nbconvert_exporter": "python",
   "pygments_lexer": "ipython3",
   "version": "3.13.5"
  }
 },
 "nbformat": 4,
 "nbformat_minor": 5
}
